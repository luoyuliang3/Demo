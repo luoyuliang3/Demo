{
 "cells": [
  {
   "cell_type": "code",
   "execution_count": 3,
   "metadata": {},
   "outputs": [
    {
     "name": "stdout",
     "output_type": "stream",
     "text": [
      "Requirement already satisfied: pymilvus in f:\\mysoftfile\\anaconda3\\envs\\qwen2.5\\lib\\site-packages (2.5.5)\n",
      "Requirement already satisfied: setuptools>69 in f:\\mysoftfile\\anaconda3\\envs\\qwen2.5\\lib\\site-packages (from pymilvus) (75.8.0)\n",
      "Requirement already satisfied: grpcio<=1.67.1,>=1.49.1 in f:\\mysoftfile\\anaconda3\\envs\\qwen2.5\\lib\\site-packages (from pymilvus) (1.67.1)\n",
      "Requirement already satisfied: protobuf>=3.20.0 in f:\\mysoftfile\\anaconda3\\envs\\qwen2.5\\lib\\site-packages (from pymilvus) (6.30.1)\n",
      "Requirement already satisfied: python-dotenv<2.0.0,>=1.0.1 in f:\\mysoftfile\\anaconda3\\envs\\qwen2.5\\lib\\site-packages (from pymilvus) (1.0.1)\n",
      "Requirement already satisfied: ujson>=2.0.0 in f:\\mysoftfile\\anaconda3\\envs\\qwen2.5\\lib\\site-packages (from pymilvus) (5.10.0)\n",
      "Requirement already satisfied: pandas>=1.2.4 in f:\\mysoftfile\\anaconda3\\envs\\qwen2.5\\lib\\site-packages (from pymilvus) (2.2.3)\n",
      "Requirement already satisfied: numpy>=1.22.4 in f:\\mysoftfile\\anaconda3\\envs\\qwen2.5\\lib\\site-packages (from pandas>=1.2.4->pymilvus) (2.2.4)\n",
      "Requirement already satisfied: python-dateutil>=2.8.2 in f:\\mysoftfile\\anaconda3\\envs\\qwen2.5\\lib\\site-packages (from pandas>=1.2.4->pymilvus) (2.9.0.post0)\n",
      "Requirement already satisfied: pytz>=2020.1 in f:\\mysoftfile\\anaconda3\\envs\\qwen2.5\\lib\\site-packages (from pandas>=1.2.4->pymilvus) (2025.1)\n",
      "Requirement already satisfied: tzdata>=2022.7 in f:\\mysoftfile\\anaconda3\\envs\\qwen2.5\\lib\\site-packages (from pandas>=1.2.4->pymilvus) (2025.1)\n",
      "Requirement already satisfied: six>=1.5 in f:\\mysoftfile\\anaconda3\\envs\\qwen2.5\\lib\\site-packages (from python-dateutil>=2.8.2->pandas>=1.2.4->pymilvus) (1.17.0)\n",
      "Note: you may need to restart the kernel to use updated packages.\n"
     ]
    }
   ],
   "source": [
    "\n",
    "%pip install pymilvus\n",
    "\n",
    "from pymilvus import MilvusClient\n",
    "import os \n",
    "import json\n",
    "import random\n",
    "import numpy as np\n",
    "from uuid import uuid4\n",
    "import shutil\n",
    "\n",
    "if os.path.exists(\"test_milvus\"):\n",
    "    shutil.rmtree(\"test_milvus\")\n",
    "os.makedirs(\"test_milvus\", exist_ok=True)"
   ]
  },
  {
   "cell_type": "code",
   "execution_count": 2,
   "metadata": {},
   "outputs": [
    {
     "data": {
      "text/plain": [
       "0"
      ]
     },
     "execution_count": 2,
     "metadata": {},
     "output_type": "execute_result"
    }
   ],
   "source": [
    "import os\n",
    "os.system('jupyter kernelspec list')  # 列出可用内核"
   ]
  },
  {
   "cell_type": "code",
   "execution_count": 6,
   "metadata": {},
   "outputs": [
    {
     "name": "stderr",
     "output_type": "stream",
     "text": [
      "2025-03-19 11:06:42,035 [ERROR][_create_connection]: Failed to create new connection using: 0dd3fb797feb46d19fa17f088dddd148 (milvus_client.py:923)\n"
     ]
    },
    {
     "ename": "ModuleNotFoundError",
     "evalue": "No module named 'milvus_lite'",
     "output_type": "error",
     "traceback": [
      "\u001b[1;31m---------------------------------------------------------------------------\u001b[0m",
      "\u001b[1;31mModuleNotFoundError\u001b[0m                       Traceback (most recent call last)",
      "    \u001b[1;31m[... skipping hidden 1 frame]\u001b[0m\n",
      "Cell \u001b[1;32mIn[6], line 5\u001b[0m\n\u001b[0;32m      4\u001b[0m DIM_VALUE \u001b[38;5;241m=\u001b[39m \u001b[38;5;241m10\u001b[39m\n\u001b[1;32m----> 5\u001b[0m client \u001b[38;5;241m=\u001b[39m \u001b[43mMilvusClient\u001b[49m\u001b[43m(\u001b[49m\u001b[43mDB_PATH\u001b[49m\u001b[43m)\u001b[49m\n",
      "File \u001b[1;32mf:\\Mysoftfile\\Anaconda3\\envs\\QWen2.5\\lib\\site-packages\\pymilvus\\milvus_client\\milvus_client.py:67\u001b[0m, in \u001b[0;36mMilvusClient.__init__\u001b[1;34m(self, uri, user, password, db_name, token, timeout, **kwargs)\u001b[0m\n\u001b[0;32m     55\u001b[0m \u001b[38;5;250m\u001b[39m\u001b[38;5;124;03m\"\"\"A client for the common Milvus use case.\u001b[39;00m\n\u001b[0;32m     56\u001b[0m \n\u001b[0;32m     57\u001b[0m \u001b[38;5;124;03mThis client attempts to hide away the complexity of using Pymilvus. In a lot ofcases what\u001b[39;00m\n\u001b[1;32m   (...)\u001b[0m\n\u001b[0;32m     65\u001b[0m \u001b[38;5;124;03m        to None.\u001b[39;00m\n\u001b[0;32m     66\u001b[0m \u001b[38;5;124;03m\"\"\"\u001b[39;00m\n\u001b[1;32m---> 67\u001b[0m \u001b[38;5;28mself\u001b[39m\u001b[38;5;241m.\u001b[39m_using \u001b[38;5;241m=\u001b[39m \u001b[38;5;28mself\u001b[39m\u001b[38;5;241m.\u001b[39m_create_connection(\n\u001b[0;32m     68\u001b[0m     uri, user, password, db_name, token, timeout\u001b[38;5;241m=\u001b[39mtimeout, \u001b[38;5;241m*\u001b[39m\u001b[38;5;241m*\u001b[39mkwargs\n\u001b[0;32m     69\u001b[0m )\n\u001b[0;32m     70\u001b[0m \u001b[38;5;28mself\u001b[39m\u001b[38;5;241m.\u001b[39mis_self_hosted \u001b[38;5;241m=\u001b[39m \u001b[38;5;28mbool\u001b[39m(utility\u001b[38;5;241m.\u001b[39mget_server_type(using\u001b[38;5;241m=\u001b[39m\u001b[38;5;28mself\u001b[39m\u001b[38;5;241m.\u001b[39m_using) \u001b[38;5;241m==\u001b[39m \u001b[38;5;124m\"\u001b[39m\u001b[38;5;124mmilvus\u001b[39m\u001b[38;5;124m\"\u001b[39m)\n",
      "File \u001b[1;32mf:\\Mysoftfile\\Anaconda3\\envs\\QWen2.5\\lib\\site-packages\\pymilvus\\milvus_client\\milvus_client.py:924\u001b[0m, in \u001b[0;36mMilvusClient._create_connection\u001b[1;34m(self, uri, user, password, db_name, token, **kwargs)\u001b[0m\n\u001b[0;32m    923\u001b[0m     logger\u001b[38;5;241m.\u001b[39merror(\u001b[38;5;124m\"\u001b[39m\u001b[38;5;124mFailed to create new connection using: \u001b[39m\u001b[38;5;132;01m%s\u001b[39;00m\u001b[38;5;124m\"\u001b[39m, using)\n\u001b[1;32m--> 924\u001b[0m     \u001b[38;5;28;01mraise\u001b[39;00m ex \u001b[38;5;28;01mfrom\u001b[39;00m\u001b[38;5;250m \u001b[39m\u001b[38;5;21;01mex\u001b[39;00m\n\u001b[0;32m    925\u001b[0m \u001b[38;5;28;01melse\u001b[39;00m:\n",
      "File \u001b[1;32mf:\\Mysoftfile\\Anaconda3\\envs\\QWen2.5\\lib\\site-packages\\pymilvus\\milvus_client\\milvus_client.py:921\u001b[0m, in \u001b[0;36mMilvusClient._create_connection\u001b[1;34m(self, uri, user, password, db_name, token, **kwargs)\u001b[0m\n\u001b[0;32m    920\u001b[0m \u001b[38;5;28;01mtry\u001b[39;00m:\n\u001b[1;32m--> 921\u001b[0m     connections\u001b[38;5;241m.\u001b[39mconnect(using, user, password, db_name, token, uri\u001b[38;5;241m=\u001b[39muri, \u001b[38;5;241m*\u001b[39m\u001b[38;5;241m*\u001b[39mkwargs)\n\u001b[0;32m    922\u001b[0m \u001b[38;5;28;01mexcept\u001b[39;00m \u001b[38;5;167;01mException\u001b[39;00m \u001b[38;5;28;01mas\u001b[39;00m ex:\n",
      "File \u001b[1;32mf:\\Mysoftfile\\Anaconda3\\envs\\QWen2.5\\lib\\site-packages\\pymilvus\\orm\\connections.py:388\u001b[0m, in \u001b[0;36mConnections.connect\u001b[1;34m(self, alias, user, password, db_name, token, _async, **kwargs)\u001b[0m\n\u001b[0;32m    384\u001b[0m     \u001b[38;5;28;01mraise\u001b[39;00m ConnectionConfigException(\n\u001b[0;32m    385\u001b[0m         message\u001b[38;5;241m=\u001b[39m\u001b[38;5;124mf\u001b[39m\u001b[38;5;124m\"\u001b[39m\u001b[38;5;124mOpen local milvus failed, dir: \u001b[39m\u001b[38;5;132;01m{\u001b[39;00mparent_path\u001b[38;5;132;01m}\u001b[39;00m\u001b[38;5;124m not exists\u001b[39m\u001b[38;5;124m\"\u001b[39m\n\u001b[0;32m    386\u001b[0m     )\n\u001b[1;32m--> 388\u001b[0m \u001b[38;5;28;01mfrom\u001b[39;00m\u001b[38;5;250m \u001b[39m\u001b[38;5;21;01mmilvus_lite\u001b[39;00m\u001b[38;5;21;01m.\u001b[39;00m\u001b[38;5;21;01mserver_manager\u001b[39;00m\u001b[38;5;250m \u001b[39m\u001b[38;5;28;01mimport\u001b[39;00m (\n\u001b[0;32m    389\u001b[0m     server_manager_instance,\n\u001b[0;32m    390\u001b[0m )\n\u001b[0;32m    392\u001b[0m local_uri \u001b[38;5;241m=\u001b[39m server_manager_instance\u001b[38;5;241m.\u001b[39mstart_and_get_uri(kwargs[\u001b[38;5;124m\"\u001b[39m\u001b[38;5;124muri\u001b[39m\u001b[38;5;124m\"\u001b[39m])\n",
      "\u001b[1;31mModuleNotFoundError\u001b[0m: No module named 'milvus_lite'",
      "\nThe above exception was the direct cause of the following exception:\n",
      "\u001b[1;31mModuleNotFoundError\u001b[0m                       Traceback (most recent call last)",
      "    \u001b[1;31m[... skipping hidden 1 frame]\u001b[0m\n",
      "Cell \u001b[1;32mIn[6], line 5\u001b[0m\n\u001b[0;32m      4\u001b[0m DIM_VALUE \u001b[38;5;241m=\u001b[39m \u001b[38;5;241m10\u001b[39m\n\u001b[1;32m----> 5\u001b[0m client \u001b[38;5;241m=\u001b[39m \u001b[43mMilvusClient\u001b[49m\u001b[43m(\u001b[49m\u001b[43mDB_PATH\u001b[49m\u001b[43m)\u001b[49m\n",
      "File \u001b[1;32mf:\\Mysoftfile\\Anaconda3\\envs\\QWen2.5\\lib\\site-packages\\pymilvus\\milvus_client\\milvus_client.py:67\u001b[0m, in \u001b[0;36mMilvusClient.__init__\u001b[1;34m(self, uri, user, password, db_name, token, timeout, **kwargs)\u001b[0m\n\u001b[0;32m     55\u001b[0m \u001b[38;5;250m\u001b[39m\u001b[38;5;124;03m\"\"\"A client for the common Milvus use case.\u001b[39;00m\n\u001b[0;32m     56\u001b[0m \n\u001b[0;32m     57\u001b[0m \u001b[38;5;124;03mThis client attempts to hide away the complexity of using Pymilvus. In a lot ofcases what\u001b[39;00m\n\u001b[1;32m   (...)\u001b[0m\n\u001b[0;32m     65\u001b[0m \u001b[38;5;124;03m        to None.\u001b[39;00m\n\u001b[0;32m     66\u001b[0m \u001b[38;5;124;03m\"\"\"\u001b[39;00m\n\u001b[1;32m---> 67\u001b[0m \u001b[38;5;28mself\u001b[39m\u001b[38;5;241m.\u001b[39m_using \u001b[38;5;241m=\u001b[39m \u001b[38;5;28mself\u001b[39m\u001b[38;5;241m.\u001b[39m_create_connection(\n\u001b[0;32m     68\u001b[0m     uri, user, password, db_name, token, timeout\u001b[38;5;241m=\u001b[39mtimeout, \u001b[38;5;241m*\u001b[39m\u001b[38;5;241m*\u001b[39mkwargs\n\u001b[0;32m     69\u001b[0m )\n\u001b[0;32m     70\u001b[0m \u001b[38;5;28mself\u001b[39m\u001b[38;5;241m.\u001b[39mis_self_hosted \u001b[38;5;241m=\u001b[39m \u001b[38;5;28mbool\u001b[39m(utility\u001b[38;5;241m.\u001b[39mget_server_type(using\u001b[38;5;241m=\u001b[39m\u001b[38;5;28mself\u001b[39m\u001b[38;5;241m.\u001b[39m_using) \u001b[38;5;241m==\u001b[39m \u001b[38;5;124m\"\u001b[39m\u001b[38;5;124mmilvus\u001b[39m\u001b[38;5;124m\"\u001b[39m)\n",
      "File \u001b[1;32mf:\\Mysoftfile\\Anaconda3\\envs\\QWen2.5\\lib\\site-packages\\pymilvus\\milvus_client\\milvus_client.py:924\u001b[0m, in \u001b[0;36mMilvusClient._create_connection\u001b[1;34m(self, uri, user, password, db_name, token, **kwargs)\u001b[0m\n\u001b[0;32m    923\u001b[0m     logger\u001b[38;5;241m.\u001b[39merror(\u001b[38;5;124m\"\u001b[39m\u001b[38;5;124mFailed to create new connection using: \u001b[39m\u001b[38;5;132;01m%s\u001b[39;00m\u001b[38;5;124m\"\u001b[39m, using)\n\u001b[1;32m--> 924\u001b[0m     \u001b[38;5;28;01mraise\u001b[39;00m ex \u001b[38;5;28;01mfrom\u001b[39;00m\u001b[38;5;250m \u001b[39m\u001b[38;5;21;01mex\u001b[39;00m\n\u001b[0;32m    925\u001b[0m \u001b[38;5;28;01melse\u001b[39;00m:\n",
      "File \u001b[1;32mf:\\Mysoftfile\\Anaconda3\\envs\\QWen2.5\\lib\\site-packages\\pymilvus\\milvus_client\\milvus_client.py:921\u001b[0m, in \u001b[0;36mMilvusClient._create_connection\u001b[1;34m(self, uri, user, password, db_name, token, **kwargs)\u001b[0m\n\u001b[0;32m    920\u001b[0m \u001b[38;5;28;01mtry\u001b[39;00m:\n\u001b[1;32m--> 921\u001b[0m     connections\u001b[38;5;241m.\u001b[39mconnect(using, user, password, db_name, token, uri\u001b[38;5;241m=\u001b[39muri, \u001b[38;5;241m*\u001b[39m\u001b[38;5;241m*\u001b[39mkwargs)\n\u001b[0;32m    922\u001b[0m \u001b[38;5;28;01mexcept\u001b[39;00m \u001b[38;5;167;01mException\u001b[39;00m \u001b[38;5;28;01mas\u001b[39;00m ex:\n",
      "File \u001b[1;32mf:\\Mysoftfile\\Anaconda3\\envs\\QWen2.5\\lib\\site-packages\\pymilvus\\orm\\connections.py:388\u001b[0m, in \u001b[0;36mConnections.connect\u001b[1;34m(self, alias, user, password, db_name, token, _async, **kwargs)\u001b[0m\n\u001b[0;32m    384\u001b[0m     \u001b[38;5;28;01mraise\u001b[39;00m ConnectionConfigException(\n\u001b[0;32m    385\u001b[0m         message\u001b[38;5;241m=\u001b[39m\u001b[38;5;124mf\u001b[39m\u001b[38;5;124m\"\u001b[39m\u001b[38;5;124mOpen local milvus failed, dir: \u001b[39m\u001b[38;5;132;01m{\u001b[39;00mparent_path\u001b[38;5;132;01m}\u001b[39;00m\u001b[38;5;124m not exists\u001b[39m\u001b[38;5;124m\"\u001b[39m\n\u001b[0;32m    386\u001b[0m     )\n\u001b[1;32m--> 388\u001b[0m \u001b[38;5;28;01mfrom\u001b[39;00m\u001b[38;5;250m \u001b[39m\u001b[38;5;21;01mmilvus_lite\u001b[39;00m\u001b[38;5;21;01m.\u001b[39;00m\u001b[38;5;21;01mserver_manager\u001b[39;00m\u001b[38;5;250m \u001b[39m\u001b[38;5;28;01mimport\u001b[39;00m (\n\u001b[0;32m    389\u001b[0m     server_manager_instance,\n\u001b[0;32m    390\u001b[0m )\n\u001b[0;32m    392\u001b[0m local_uri \u001b[38;5;241m=\u001b[39m server_manager_instance\u001b[38;5;241m.\u001b[39mstart_and_get_uri(kwargs[\u001b[38;5;124m\"\u001b[39m\u001b[38;5;124muri\u001b[39m\u001b[38;5;124m\"\u001b[39m])\n",
      "\u001b[1;31mModuleNotFoundError\u001b[0m: No module named 'milvus_lite'",
      "\nThe above exception was the direct cause of the following exception:\n",
      "\u001b[1;31mModuleNotFoundError\u001b[0m                       Traceback (most recent call last)",
      "Cell \u001b[1;32mIn[6], line 5\u001b[0m\n\u001b[0;32m      3\u001b[0m TABLE_NAME \u001b[38;5;241m=\u001b[39m \u001b[38;5;124m\"\u001b[39m\u001b[38;5;124mtextsearch4testv2\u001b[39m\u001b[38;5;124m\"\u001b[39m\n\u001b[0;32m      4\u001b[0m DIM_VALUE \u001b[38;5;241m=\u001b[39m \u001b[38;5;241m10\u001b[39m\n\u001b[1;32m----> 5\u001b[0m client \u001b[38;5;241m=\u001b[39m \u001b[43mMilvusClient\u001b[49m\u001b[43m(\u001b[49m\u001b[43mDB_PATH\u001b[49m\u001b[43m)\u001b[49m\n",
      "File \u001b[1;32mf:\\Mysoftfile\\Anaconda3\\envs\\QWen2.5\\lib\\site-packages\\pymilvus\\milvus_client\\milvus_client.py:67\u001b[0m, in \u001b[0;36mMilvusClient.__init__\u001b[1;34m(self, uri, user, password, db_name, token, timeout, **kwargs)\u001b[0m\n\u001b[0;32m     45\u001b[0m \u001b[38;5;28;01mdef\u001b[39;00m\u001b[38;5;250m \u001b[39m\u001b[38;5;21m__init__\u001b[39m(\n\u001b[0;32m     46\u001b[0m     \u001b[38;5;28mself\u001b[39m,\n\u001b[0;32m     47\u001b[0m     uri: \u001b[38;5;28mstr\u001b[39m \u001b[38;5;241m=\u001b[39m \u001b[38;5;124m\"\u001b[39m\u001b[38;5;124mhttp://localhost:19530\u001b[39m\u001b[38;5;124m\"\u001b[39m,\n\u001b[1;32m   (...)\u001b[0m\n\u001b[0;32m     53\u001b[0m     \u001b[38;5;241m*\u001b[39m\u001b[38;5;241m*\u001b[39mkwargs,\n\u001b[0;32m     54\u001b[0m ) \u001b[38;5;241m-\u001b[39m\u001b[38;5;241m>\u001b[39m \u001b[38;5;28;01mNone\u001b[39;00m:\n\u001b[0;32m     55\u001b[0m \u001b[38;5;250m    \u001b[39m\u001b[38;5;124;03m\"\"\"A client for the common Milvus use case.\u001b[39;00m\n\u001b[0;32m     56\u001b[0m \n\u001b[0;32m     57\u001b[0m \u001b[38;5;124;03m    This client attempts to hide away the complexity of using Pymilvus. In a lot ofcases what\u001b[39;00m\n\u001b[1;32m   (...)\u001b[0m\n\u001b[0;32m     65\u001b[0m \u001b[38;5;124;03m            to None.\u001b[39;00m\n\u001b[0;32m     66\u001b[0m \u001b[38;5;124;03m    \"\"\"\u001b[39;00m\n\u001b[1;32m---> 67\u001b[0m     \u001b[38;5;28mself\u001b[39m\u001b[38;5;241m.\u001b[39m_using \u001b[38;5;241m=\u001b[39m \u001b[38;5;28mself\u001b[39m\u001b[38;5;241m.\u001b[39m_create_connection(\n\u001b[0;32m     68\u001b[0m         uri, user, password, db_name, token, timeout\u001b[38;5;241m=\u001b[39mtimeout, \u001b[38;5;241m*\u001b[39m\u001b[38;5;241m*\u001b[39mkwargs\n\u001b[0;32m     69\u001b[0m     )\n\u001b[0;32m     70\u001b[0m     \u001b[38;5;28mself\u001b[39m\u001b[38;5;241m.\u001b[39mis_self_hosted \u001b[38;5;241m=\u001b[39m \u001b[38;5;28mbool\u001b[39m(utility\u001b[38;5;241m.\u001b[39mget_server_type(using\u001b[38;5;241m=\u001b[39m\u001b[38;5;28mself\u001b[39m\u001b[38;5;241m.\u001b[39m_using) \u001b[38;5;241m==\u001b[39m \u001b[38;5;124m\"\u001b[39m\u001b[38;5;124mmilvus\u001b[39m\u001b[38;5;124m\"\u001b[39m)\n",
      "File \u001b[1;32mf:\\Mysoftfile\\Anaconda3\\envs\\QWen2.5\\lib\\site-packages\\pymilvus\\milvus_client\\milvus_client.py:924\u001b[0m, in \u001b[0;36mMilvusClient._create_connection\u001b[1;34m(self, uri, user, password, db_name, token, **kwargs)\u001b[0m\n\u001b[0;32m    922\u001b[0m \u001b[38;5;28;01mexcept\u001b[39;00m \u001b[38;5;167;01mException\u001b[39;00m \u001b[38;5;28;01mas\u001b[39;00m ex:\n\u001b[0;32m    923\u001b[0m     logger\u001b[38;5;241m.\u001b[39merror(\u001b[38;5;124m\"\u001b[39m\u001b[38;5;124mFailed to create new connection using: \u001b[39m\u001b[38;5;132;01m%s\u001b[39;00m\u001b[38;5;124m\"\u001b[39m, using)\n\u001b[1;32m--> 924\u001b[0m     \u001b[38;5;28;01mraise\u001b[39;00m ex \u001b[38;5;28;01mfrom\u001b[39;00m\u001b[38;5;250m \u001b[39m\u001b[38;5;21;01mex\u001b[39;00m\n\u001b[0;32m    925\u001b[0m \u001b[38;5;28;01melse\u001b[39;00m:\n\u001b[0;32m    926\u001b[0m     logger\u001b[38;5;241m.\u001b[39mdebug(\u001b[38;5;124m\"\u001b[39m\u001b[38;5;124mCreated new connection using: \u001b[39m\u001b[38;5;132;01m%s\u001b[39;00m\u001b[38;5;124m\"\u001b[39m, using)\n",
      "File \u001b[1;32mf:\\Mysoftfile\\Anaconda3\\envs\\QWen2.5\\lib\\site-packages\\pymilvus\\milvus_client\\milvus_client.py:921\u001b[0m, in \u001b[0;36mMilvusClient._create_connection\u001b[1;34m(self, uri, user, password, db_name, token, **kwargs)\u001b[0m\n\u001b[0;32m    919\u001b[0m using \u001b[38;5;241m=\u001b[39m uuid4()\u001b[38;5;241m.\u001b[39mhex\n\u001b[0;32m    920\u001b[0m \u001b[38;5;28;01mtry\u001b[39;00m:\n\u001b[1;32m--> 921\u001b[0m     connections\u001b[38;5;241m.\u001b[39mconnect(using, user, password, db_name, token, uri\u001b[38;5;241m=\u001b[39muri, \u001b[38;5;241m*\u001b[39m\u001b[38;5;241m*\u001b[39mkwargs)\n\u001b[0;32m    922\u001b[0m \u001b[38;5;28;01mexcept\u001b[39;00m \u001b[38;5;167;01mException\u001b[39;00m \u001b[38;5;28;01mas\u001b[39;00m ex:\n\u001b[0;32m    923\u001b[0m     logger\u001b[38;5;241m.\u001b[39merror(\u001b[38;5;124m\"\u001b[39m\u001b[38;5;124mFailed to create new connection using: \u001b[39m\u001b[38;5;132;01m%s\u001b[39;00m\u001b[38;5;124m\"\u001b[39m, using)\n",
      "File \u001b[1;32mf:\\Mysoftfile\\Anaconda3\\envs\\QWen2.5\\lib\\site-packages\\pymilvus\\orm\\connections.py:388\u001b[0m, in \u001b[0;36mConnections.connect\u001b[1;34m(self, alias, user, password, db_name, token, _async, **kwargs)\u001b[0m\n\u001b[0;32m    383\u001b[0m \u001b[38;5;28;01mif\u001b[39;00m \u001b[38;5;129;01mnot\u001b[39;00m parent_path\u001b[38;5;241m.\u001b[39mis_dir():\n\u001b[0;32m    384\u001b[0m     \u001b[38;5;28;01mraise\u001b[39;00m ConnectionConfigException(\n\u001b[0;32m    385\u001b[0m         message\u001b[38;5;241m=\u001b[39m\u001b[38;5;124mf\u001b[39m\u001b[38;5;124m\"\u001b[39m\u001b[38;5;124mOpen local milvus failed, dir: \u001b[39m\u001b[38;5;132;01m{\u001b[39;00mparent_path\u001b[38;5;132;01m}\u001b[39;00m\u001b[38;5;124m not exists\u001b[39m\u001b[38;5;124m\"\u001b[39m\n\u001b[0;32m    386\u001b[0m     )\n\u001b[1;32m--> 388\u001b[0m \u001b[38;5;28;01mfrom\u001b[39;00m\u001b[38;5;250m \u001b[39m\u001b[38;5;21;01mmilvus_lite\u001b[39;00m\u001b[38;5;21;01m.\u001b[39;00m\u001b[38;5;21;01mserver_manager\u001b[39;00m\u001b[38;5;250m \u001b[39m\u001b[38;5;28;01mimport\u001b[39;00m (\n\u001b[0;32m    389\u001b[0m     server_manager_instance,\n\u001b[0;32m    390\u001b[0m )\n\u001b[0;32m    392\u001b[0m local_uri \u001b[38;5;241m=\u001b[39m server_manager_instance\u001b[38;5;241m.\u001b[39mstart_and_get_uri(kwargs[\u001b[38;5;124m\"\u001b[39m\u001b[38;5;124muri\u001b[39m\u001b[38;5;124m\"\u001b[39m])\n\u001b[0;32m    393\u001b[0m \u001b[38;5;28;01mif\u001b[39;00m local_uri \u001b[38;5;129;01mis\u001b[39;00m \u001b[38;5;28;01mNone\u001b[39;00m:\n",
      "\u001b[1;31mModuleNotFoundError\u001b[0m: No module named 'milvus_lite'"
     ]
    }
   ],
   "source": [
    "DB_PATH = \"test_milvus/milvus_demo.db\"\n",
    "\n",
    "TABLE_NAME = \"textsearch4testv2\"\n",
    "DIM_VALUE = 10\n",
    "client = MilvusClient(DB_PATH)\n"
   ]
  },
  {
   "cell_type": "code",
   "execution_count": null,
   "metadata": {},
   "outputs": [],
   "source": []
  }
 ],
 "metadata": {
  "kernelspec": {
   "display_name": "QWen2.5",
   "language": "python",
   "name": "python3"
  },
  "language_info": {
   "codemirror_mode": {
    "name": "ipython",
    "version": 3
   },
   "file_extension": ".py",
   "mimetype": "text/x-python",
   "name": "python",
   "nbconvert_exporter": "python",
   "pygments_lexer": "ipython3",
   "version": "3.10.16"
  }
 },
 "nbformat": 4,
 "nbformat_minor": 2
}
